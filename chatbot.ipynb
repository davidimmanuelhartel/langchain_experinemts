{
 "cells": [
  {
   "cell_type": "code",
   "execution_count": 2,
   "metadata": {},
   "outputs": [],
   "source": [
    "import json"
   ]
  },
  {
   "cell_type": "code",
   "execution_count": 3,
   "metadata": {},
   "outputs": [],
   "source": [
    "with open(\"files/sample-1M.jsonl\", \"r\") as f:\n",
    "    data = f.readlines()"
   ]
  },
  {
   "cell_type": "code",
   "execution_count": 4,
   "metadata": {},
   "outputs": [],
   "source": [
    "# convert json lines to json\n",
    "data = [json.loads(line) for line in data]\n"
   ]
  },
  {
   "cell_type": "code",
   "execution_count": 5,
   "metadata": {},
   "outputs": [
    {
     "data": {
      "text/html": [
       "<div>\n",
       "<style scoped>\n",
       "    .dataframe tbody tr th:only-of-type {\n",
       "        vertical-align: middle;\n",
       "    }\n",
       "\n",
       "    .dataframe tbody tr th {\n",
       "        vertical-align: top;\n",
       "    }\n",
       "\n",
       "    .dataframe thead th {\n",
       "        text-align: right;\n",
       "    }\n",
       "</style>\n",
       "<table border=\"1\" class=\"dataframe\">\n",
       "  <thead>\n",
       "    <tr style=\"text-align: right;\">\n",
       "      <th></th>\n",
       "      <th>id</th>\n",
       "      <th>content</th>\n",
       "      <th>title</th>\n",
       "      <th>media-type</th>\n",
       "      <th>source</th>\n",
       "      <th>published</th>\n",
       "    </tr>\n",
       "  </thead>\n",
       "  <tbody>\n",
       "    <tr>\n",
       "      <th>0</th>\n",
       "      <td>f7ca322d-c3e8-40d2-841f-9d7250ac72ca</td>\n",
       "      <td>VETERANS saluted Worcester's first ever breakf...</td>\n",
       "      <td>Worcester breakfast club for veterans gives hu...</td>\n",
       "      <td>News</td>\n",
       "      <td>Redditch Advertiser</td>\n",
       "      <td>2015-09-07T10:16:14Z</td>\n",
       "    </tr>\n",
       "    <tr>\n",
       "      <th>1</th>\n",
       "      <td>609772bc-0672-4db5-8516-4c025cfd54ca</td>\n",
       "      <td>New Product Gives Marketers Access to Real Key...</td>\n",
       "      <td>Jumpshot Gives Marketers Renewed Visibility In...</td>\n",
       "      <td>News</td>\n",
       "      <td>Virtualization Conference &amp; Expo</td>\n",
       "      <td>2015-09-17T15:00:00Z</td>\n",
       "    </tr>\n",
       "    <tr>\n",
       "      <th>2</th>\n",
       "      <td>1aa9d1b0-e6ba-4a48-ad0c-66552d896aac</td>\n",
       "      <td>Home »\\rStyle » The Return Of The Nike Air Max...</td>\n",
       "      <td>The Return Of The Nike Air Max Sensation Has 8...</td>\n",
       "      <td>Blog</td>\n",
       "      <td>Streets Connect</td>\n",
       "      <td>2015-09-22T22:54:37Z</td>\n",
       "    </tr>\n",
       "    <tr>\n",
       "      <th>3</th>\n",
       "      <td>719699f9-47be-4bc7-969b-b53a881c95ae</td>\n",
       "      <td>NYMag.com Daily Intelligencer Vulture The Cut ...</td>\n",
       "      <td>This New Dating App Will Ruin Your Internet Game</td>\n",
       "      <td>Blog</td>\n",
       "      <td>The Cut</td>\n",
       "      <td>2015-09-16T23:12:11Z</td>\n",
       "    </tr>\n",
       "    <tr>\n",
       "      <th>4</th>\n",
       "      <td>a080f99a-07d9-47d1-8244-26a540017b7a</td>\n",
       "      <td>KUALA LUMPUR, Sept 15 (MySinchew) -- The Kuala...</td>\n",
       "      <td>Pay up or face legal action: DBKL</td>\n",
       "      <td>News</td>\n",
       "      <td>My Sinchew</td>\n",
       "      <td>2015-09-15T10:17:53Z</td>\n",
       "    </tr>\n",
       "  </tbody>\n",
       "</table>\n",
       "</div>"
      ],
      "text/plain": [
       "                                     id  \\\n",
       "0  f7ca322d-c3e8-40d2-841f-9d7250ac72ca   \n",
       "1  609772bc-0672-4db5-8516-4c025cfd54ca   \n",
       "2  1aa9d1b0-e6ba-4a48-ad0c-66552d896aac   \n",
       "3  719699f9-47be-4bc7-969b-b53a881c95ae   \n",
       "4  a080f99a-07d9-47d1-8244-26a540017b7a   \n",
       "\n",
       "                                             content  \\\n",
       "0  VETERANS saluted Worcester's first ever breakf...   \n",
       "1  New Product Gives Marketers Access to Real Key...   \n",
       "2  Home »\\rStyle » The Return Of The Nike Air Max...   \n",
       "3  NYMag.com Daily Intelligencer Vulture The Cut ...   \n",
       "4  KUALA LUMPUR, Sept 15 (MySinchew) -- The Kuala...   \n",
       "\n",
       "                                               title media-type  \\\n",
       "0  Worcester breakfast club for veterans gives hu...       News   \n",
       "1  Jumpshot Gives Marketers Renewed Visibility In...       News   \n",
       "2  The Return Of The Nike Air Max Sensation Has 8...       Blog   \n",
       "3   This New Dating App Will Ruin Your Internet Game       Blog   \n",
       "4                  Pay up or face legal action: DBKL       News   \n",
       "\n",
       "                             source             published  \n",
       "0               Redditch Advertiser  2015-09-07T10:16:14Z  \n",
       "1  Virtualization Conference & Expo  2015-09-17T15:00:00Z  \n",
       "2                   Streets Connect  2015-09-22T22:54:37Z  \n",
       "3                           The Cut  2015-09-16T23:12:11Z  \n",
       "4                        My Sinchew  2015-09-15T10:17:53Z  "
      ]
     },
     "execution_count": 5,
     "metadata": {},
     "output_type": "execute_result"
    }
   ],
   "source": [
    "# create a data frame\n",
    "import pandas as pd\n",
    "df = pd.DataFrame(data)\n",
    "df.head()\n"
   ]
  },
  {
   "cell_type": "code",
   "execution_count": 6,
   "metadata": {},
   "outputs": [],
   "source": [
    "# sort by date\n",
    "df = df.sort_values(by=\"published\", ascending=False)\n"
   ]
  },
  {
   "cell_type": "code",
   "execution_count": 7,
   "metadata": {},
   "outputs": [
    {
     "data": {
      "text/html": [
       "<div>\n",
       "<style scoped>\n",
       "    .dataframe tbody tr th:only-of-type {\n",
       "        vertical-align: middle;\n",
       "    }\n",
       "\n",
       "    .dataframe tbody tr th {\n",
       "        vertical-align: top;\n",
       "    }\n",
       "\n",
       "    .dataframe thead th {\n",
       "        text-align: right;\n",
       "    }\n",
       "</style>\n",
       "<table border=\"1\" class=\"dataframe\">\n",
       "  <thead>\n",
       "    <tr style=\"text-align: right;\">\n",
       "      <th></th>\n",
       "      <th>id</th>\n",
       "      <th>content</th>\n",
       "      <th>title</th>\n",
       "      <th>media-type</th>\n",
       "      <th>source</th>\n",
       "      <th>published</th>\n",
       "    </tr>\n",
       "  </thead>\n",
       "  <tbody>\n",
       "    <tr>\n",
       "      <th>301009</th>\n",
       "      <td>778f48f8-e530-4636-986c-478ef06d1474</td>\n",
       "      <td>A 38-year-old man is in a West Australian hosp...</td>\n",
       "      <td>WA man tries to ram police, firefighters</td>\n",
       "      <td>News</td>\n",
       "      <td>Countryman</td>\n",
       "      <td>2015-09-30T23:59:38Z</td>\n",
       "    </tr>\n",
       "    <tr>\n",
       "      <th>104966</th>\n",
       "      <td>261887d5-39e8-4948-aae0-5256ad069dd8</td>\n",
       "      <td>Hundreds of nurses rallied outside an Abbotsfo...</td>\n",
       "      <td>Nurses protest layoffs at Abbotsford care home</td>\n",
       "      <td>News</td>\n",
       "      <td>Metro Canada</td>\n",
       "      <td>2015-09-30T23:59:36Z</td>\n",
       "    </tr>\n",
       "    <tr>\n",
       "      <th>472021</th>\n",
       "      <td>8114f1ff-5227-42d6-951b-30a7490c0b12</td>\n",
       "      <td>The TEAM raises awareness and money for Specia...</td>\n",
       "      <td>TEAM Special Ops Survivors to Honor Four Falle...</td>\n",
       "      <td>News</td>\n",
       "      <td>Times Union</td>\n",
       "      <td>2015-09-30T23:59:36Z</td>\n",
       "    </tr>\n",
       "    <tr>\n",
       "      <th>35007</th>\n",
       "      <td>da3913d3-782a-4c9c-858d-ed393a138147</td>\n",
       "      <td>The University of Canberra has cracked a spot ...</td>\n",
       "      <td>Rank and profile as UC moves into the big league</td>\n",
       "      <td>News</td>\n",
       "      <td>Melbourne Age</td>\n",
       "      <td>2015-09-30T23:59:32Z</td>\n",
       "    </tr>\n",
       "    <tr>\n",
       "      <th>689610</th>\n",
       "      <td>95044056-bf82-4eb4-a921-2b146f6f573f</td>\n",
       "      <td>SOURCE ReportBuyer\\n\\nLONDON \\n\\nTo view the o...</td>\n",
       "      <td>Potassium Metabisulfite Market by Application ...</td>\n",
       "      <td>News</td>\n",
       "      <td>19 Action News</td>\n",
       "      <td>2015-09-30T23:59:15Z</td>\n",
       "    </tr>\n",
       "  </tbody>\n",
       "</table>\n",
       "</div>"
      ],
      "text/plain": [
       "                                          id  \\\n",
       "301009  778f48f8-e530-4636-986c-478ef06d1474   \n",
       "104966  261887d5-39e8-4948-aae0-5256ad069dd8   \n",
       "472021  8114f1ff-5227-42d6-951b-30a7490c0b12   \n",
       "35007   da3913d3-782a-4c9c-858d-ed393a138147   \n",
       "689610  95044056-bf82-4eb4-a921-2b146f6f573f   \n",
       "\n",
       "                                                  content  \\\n",
       "301009  A 38-year-old man is in a West Australian hosp...   \n",
       "104966  Hundreds of nurses rallied outside an Abbotsfo...   \n",
       "472021  The TEAM raises awareness and money for Specia...   \n",
       "35007   The University of Canberra has cracked a spot ...   \n",
       "689610  SOURCE ReportBuyer\\n\\nLONDON \\n\\nTo view the o...   \n",
       "\n",
       "                                                    title media-type  \\\n",
       "301009           WA man tries to ram police, firefighters       News   \n",
       "104966     Nurses protest layoffs at Abbotsford care home       News   \n",
       "472021  TEAM Special Ops Survivors to Honor Four Falle...       News   \n",
       "35007    Rank and profile as UC moves into the big league       News   \n",
       "689610  Potassium Metabisulfite Market by Application ...       News   \n",
       "\n",
       "                source             published  \n",
       "301009      Countryman  2015-09-30T23:59:38Z  \n",
       "104966    Metro Canada  2015-09-30T23:59:36Z  \n",
       "472021     Times Union  2015-09-30T23:59:36Z  \n",
       "35007    Melbourne Age  2015-09-30T23:59:32Z  \n",
       "689610  19 Action News  2015-09-30T23:59:15Z  "
      ]
     },
     "execution_count": 7,
     "metadata": {},
     "output_type": "execute_result"
    }
   ],
   "source": [
    "df.head()"
   ]
  },
  {
   "cell_type": "code",
   "execution_count": 8,
   "metadata": {},
   "outputs": [],
   "source": [
    "# sleleact all rows with published date on 2015-09-30\n",
    "df_day = df[df[\"published\"].str.startswith(\"2015-09-30\")]"
   ]
  },
  {
   "cell_type": "code",
   "execution_count": 10,
   "metadata": {},
   "outputs": [
    {
     "data": {
      "text/plain": [
       "source\n",
       "MyInforms                              773\n",
       "Individual.com                         287\n",
       "4 Traders                              262\n",
       "Reuters                                220\n",
       "Financial Content                      212\n",
       "                                      ... \n",
       "Parents.com                              1\n",
       "bifuteki                                 1\n",
       "Latest topics for ZDNet in Hardware      1\n",
       "Kingdom Revelations -                    1\n",
       "Expatica France                          1\n",
       "Name: count, Length: 13063, dtype: int64"
      ]
     },
     "execution_count": 10,
     "metadata": {},
     "output_type": "execute_result"
    }
   ],
   "source": [
    "df_day[\"source\"].value_counts()"
   ]
  },
  {
   "cell_type": "code",
   "execution_count": 9,
   "metadata": {},
   "outputs": [],
   "source": [
    "df_financial = df_day[df_day[\"source\"] == \"Financial Content\"]"
   ]
  },
  {
   "cell_type": "code",
   "execution_count": 52,
   "metadata": {},
   "outputs": [
    {
     "name": "stderr",
     "output_type": "stream",
     "text": [
      "\n",
      "KeyboardInterrupt\n",
      "\n"
     ]
    }
   ],
   "source": [
    "df"
   ]
  },
  {
   "cell_type": "code",
   "execution_count": null,
   "metadata": {},
   "outputs": [],
   "source": []
  }
 ],
 "metadata": {
  "kernelspec": {
   "display_name": "chatgpt",
   "language": "python",
   "name": "python3"
  },
  "language_info": {
   "codemirror_mode": {
    "name": "ipython",
    "version": 3
   },
   "file_extension": ".py",
   "mimetype": "text/x-python",
   "name": "python",
   "nbconvert_exporter": "python",
   "pygments_lexer": "ipython3",
   "version": "3.9.17"
  },
  "orig_nbformat": 4
 },
 "nbformat": 4,
 "nbformat_minor": 2
}
