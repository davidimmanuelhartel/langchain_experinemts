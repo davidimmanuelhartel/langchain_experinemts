{
 "cells": [
  {
   "cell_type": "code",
   "execution_count": 1,
   "metadata": {},
   "outputs": [],
   "source": [
    "from langchain.document_loaders import TextLoader\n",
    "from langchain.indexes import VectorstoreIndexCreator\n",
    "from langchain.llms import OpenAI\n",
    "from langchain.chat_models import ChatOpenAI\n",
    "from langchain.agents import create_csv_agent\n",
    "import streamlit as st"
   ]
  },
  {
   "cell_type": "code",
   "execution_count": 2,
   "metadata": {},
   "outputs": [],
   "source": [
    "import os\n",
    "from dotenv import load_dotenv\n",
    "load_dotenv('constants.py')\n",
    "os.environ[\"OPENAI_API_KEY\"] = os.getenv(\"APIKEY\")"
   ]
  },
  {
   "cell_type": "code",
   "execution_count": 5,
   "metadata": {},
   "outputs": [],
   "source": [
    "# load csv file\n",
    "import pandas as pd\n",
    "df = pd.read_csv('cnbc_news_datase.csv')"
   ]
  },
  {
   "cell_type": "markdown",
   "metadata": {},
   "source": [
    "# Agents\n",
    "for reference: https://python.langchain.com/docs/modules/agents/toolkits/python"
   ]
  },
  {
   "cell_type": "code",
   "execution_count": 10,
   "metadata": {},
   "outputs": [],
   "source": [
    "agent = create_csv_agent(\n",
    "    ChatOpenAI(temperature=0, model=\"gpt-4\"),\n",
    "    \"cnbc_news_datase.csv\",\n",
    "    verbose=True\n",
    ")"
   ]
  },
  {
   "cell_type": "code",
   "execution_count": 13,
   "metadata": {},
   "outputs": [
    {
     "name": "stdout",
     "output_type": "stream",
     "text": [
      "\n",
      "\n",
      "\u001b[1m> Entering new  chain...\u001b[0m\n",
      "\u001b[32;1m\u001b[1;3mThought: To find the newest article, I need to sort the dataframe by the 'published_at' column in descending order and then select the first row. The basic information about the article such as the date, author, and short summary can be found in the 'published_at', 'author', and 'short_description' columns respectively.\n",
      "Action: python_repl_ast\n",
      "Action Input: df.sort_values('published_at', ascending=False).iloc[0]\u001b[0m\n",
      "Observation: \u001b[36;1m\u001b[1;3mtitle                Gas crisis, labor shortages and supply chain c...\n",
      "url                  https://www.cnbc.com/2021/10/18/gas-crisis-lab...\n",
      "published_at                                  2021-10-18T08:00:25+0000\n",
      "author                                                    Chloe Taylor\n",
      "publisher                                                         CNBC\n",
      "short_description    The U.K. has emerged from the Covid-19 pandemi...\n",
      "keywords             cnbc, Articles, Border security, Customs, Nort...\n",
      "header_image         https://image.cnbcfm.com/api/v1/image/10694693...\n",
      "raw_description      <div class=\"group\"><p>The U.K. has emerged fro...\n",
      "description          The U.K. has emerged from the Covid-19 pandemi...\n",
      "scraped_at                                  2021-10-30 14:11:35.655453\n",
      "Name: 91, dtype: object\u001b[0m\n",
      "Thought:\u001b[32;1m\u001b[1;3mThe newest article is titled \"Gas crisis, labor shortages and supply chain chaos: The UK's path to recovery is far from smooth\". It was published on 2021-10-18 by Chloe Taylor. The short description of the article is \"The U.K. has emerged from the Covid-19 pandemic with a series of economic challenges that are causing chaos across the country and stoking fears of a difficult winter ahead.\"\n",
      "Final Answer: The newest article is titled \"Gas crisis, labor shortages and supply chain chaos: The UK's path to recovery is far from smooth\". It was published on 2021-10-18 by Chloe Taylor. The short description of the article is \"The U.K. has emerged from the Covid-19 pandemic with a series of economic challenges that are causing chaos across the country and stoking fears of a difficult winter ahead.\"\u001b[0m\n",
      "\n",
      "\u001b[1m> Finished chain.\u001b[0m\n"
     ]
    },
    {
     "data": {
      "text/plain": [
       "'The newest article is titled \"Gas crisis, labor shortages and supply chain chaos: The UK\\'s path to recovery is far from smooth\". It was published on 2021-10-18 by Chloe Taylor. The short description of the article is \"The U.K. has emerged from the Covid-19 pandemic with a series of economic challenges that are causing chaos across the country and stoking fears of a difficult winter ahead.\"'"
      ]
     },
     "execution_count": 13,
     "metadata": {},
     "output_type": "execute_result"
    }
   ],
   "source": [
    "agent.run(\"What is the newest article? Give a short summary and provide some basic information about it like the date and author.\")"
   ]
  },
  {
   "cell_type": "code",
   "execution_count": null,
   "metadata": {},
   "outputs": [],
   "source": [
    "json_agent_executor = create_json_agent(\n",
    "    ChatOpenAI(temperature=0, model=\"gpt-4\"),\n",
    "     toolkit=json_toolkit, verbose=True\n",
    ")"
   ]
  },
  {
   "cell_type": "markdown",
   "metadata": {},
   "source": [
    "### TextLoader"
   ]
  },
  {
   "cell_type": "code",
   "execution_count": null,
   "metadata": {},
   "outputs": [],
   "source": [
    "loader = TextLoader(\"cnbc_news_datase.csv\")\n",
    "index = VectorstoreIndexCreator().from_loaders([loader])"
   ]
  },
  {
   "cell_type": "code",
   "execution_count": 87,
   "metadata": {},
   "outputs": [],
   "source": [
    "query = \"Give a summary of the article 'My take on the early Brexit winners and losers'. include also additional information like publication data, publisher, author, etc.\""
   ]
  },
  {
   "cell_type": "code",
   "execution_count": 88,
   "metadata": {},
   "outputs": [
    {
     "name": "stdout",
     "output_type": "stream",
     "text": [
      "The article titled \"My take on the early Brexit winners and losers\" was written by Ian Bremmer and originally appeared on Facebook. It was later published on CNBC on June 24, 2016. Ian Bremmer is the president and founder of Eurasia Group, a professor at New York University, and the author of \"Superpower: Three Choices for America's Role in the World.\"\n",
      "\n",
      "In the article, Bremmer discusses the winners and losers of the early stages of the Brexit campaign. He highlights Boris Johnson, the former London mayor and \"Leave\" supporter, who has now become a front-runner to lead the Tory party. Bremmer also mentions Theresa May, the UK Home Secretary, as a potential successor to outgoing Prime Minister David Cameron, given her political heavyweight status and respect among the Tories.\n",
      "\n",
      "Nigel Farage, the leader of the UK Independence Party, is also mentioned as a winner, as he gets to keep having a political career and quoted \"Independence Day\" in his victory speech. Bremmer suggests that the success of divisive politics in the Brexit campaign may bode well for Donald Trump in the US presidential election.\n",
      "\n",
      "Overall, the article provides an analysis of the early winners and losers in the Brexit campaign, offering insights into the political landscape at that time.\n"
     ]
    }
   ],
   "source": [
    "print(index.query(query, llm= ChatOpenAI(model = \"gpt-3.5-turbo\")))"
   ]
  },
  {
   "cell_type": "code",
   "execution_count": null,
   "metadata": {},
   "outputs": [],
   "source": []
  }
 ],
 "metadata": {
  "kernelspec": {
   "display_name": "chatgpt",
   "language": "python",
   "name": "python3"
  },
  "language_info": {
   "codemirror_mode": {
    "name": "ipython",
    "version": 3
   },
   "file_extension": ".py",
   "mimetype": "text/x-python",
   "name": "python",
   "nbconvert_exporter": "python",
   "pygments_lexer": "ipython3",
   "version": "3.9.17"
  },
  "orig_nbformat": 4
 },
 "nbformat": 4,
 "nbformat_minor": 2
}
